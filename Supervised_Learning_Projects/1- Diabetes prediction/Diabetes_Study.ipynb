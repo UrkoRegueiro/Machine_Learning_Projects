{
 "cells": [
  {
   "cell_type": "markdown",
   "id": "8cc7e291",
   "metadata": {},
   "source": [
    "# Diabetes disease prediction using Naive Bayes classification\n",
    "\n",
    "Diabetes is a chronic metabolic disorder that occurs when the body either doesn't produce enough insulin or cannot effectively use the insulin it produces. Insulin is a hormone responsible for regulating the level of glucose in the bloodstream and allowing it to enter cells to be used as energy. When insulin function is impaired, it leads to an accumulation of glucose in the blood, resulting in high blood sugar levels. Blood pressure and glucose levels are important factors in diagnosing diabetes:\n",
    "\n",
    "<ol style=\"margin-left: 20px;\">\n",
    "    <li> Blood Pressure: Hypertension (high blood pressure) is often associated with diabetes. People with diabetes have an increased risk of developing hypertension due to various factors, including obesity, insulin resistance, and kidney problems.</li>\n",
    "    <li> Glucose Levels: Testing blood glucose levels is a fundamental part of diagnosing diabetes. A fasting plasma glucose (FPG) test measures blood sugar after an overnight fast. If the fasting blood glucose level is consistently equal to or higher than 126 milligrams per deciliter (mg/dL) on two separate occasions, it indicates diabetes. Additionally, an oral glucose tolerance test (OGTT) can also be performed, where blood glucose levels are checked two hours after consuming a sugary drink. A result of 200 mg/dL or higher confirms diabetes.</li>\n",
    "    \n",
    "</ol>\n",
    "\n",
    "**Objective**\n",
    "\n",
    "The __objective__ of this study is to build and test a model that uses glucose and blood pressure data to **predict** whether a pacient has **diabetes (0)** or **not (1)**. In machine learning this is a classification problem and it could helps us to identify possible diabetes cases in pacients."
   ]
  },
  {
   "cell_type": "markdown",
   "id": "f597be38",
   "metadata": {},
   "source": [
    "## Data source:\n",
    "\n",
    "The diabetes dataset was provided by HIMANSHU NAKRANI in Kaggle. The dataset contains 3 columns and 995 entries. Each column contains values for blood pressure, glucose and diabetes respectively."
   ]
  },
  {
   "cell_type": "markdown",
   "id": "e3c6670b",
   "metadata": {},
   "source": [
    "## Load libraries:"
   ]
  },
  {
   "cell_type": "code",
   "execution_count": 2,
   "id": "5494391d",
   "metadata": {},
   "outputs": [],
   "source": [
    "import numpy as np\n",
    "import pandas as pd\n",
    "import matplotlib.pyplot as plt\n",
    "import seaborn as sns\n",
    "from scipy import stats\n",
    "\n",
    "from sklearn.model_selection import train_test_split\n",
    "\n",
    "from sklearn.naive_bayes import GaussianNB\n",
    "from sklearn.linear_model import LogisticRegression\n",
    "\n",
    "from sklearn.metrics import recall_score, precision_score, f1_score, accuracy_score\n",
    "from sklearn.metrics import classification_report, confusion_matrix"
   ]
  },
  {
   "cell_type": "markdown",
   "id": "9c5e1f2a",
   "metadata": {},
   "source": [
    "## Load data:"
   ]
  },
  {
   "cell_type": "code",
   "execution_count": 3,
   "id": "d9606052",
   "metadata": {},
   "outputs": [],
   "source": [
    "diabetes_df = pd.read_csv('diabetes_data.csv')"
   ]
  },
  {
   "cell_type": "markdown",
   "id": "b89094cb",
   "metadata": {},
   "source": [
    "# EDA:\n",
    "\n",
    "The exploratory data analysis will help us understanding our data.\n",
    "\n",
    "## 1- Data inspection:"
   ]
  },
  {
   "cell_type": "code",
   "execution_count": 4,
   "id": "369d1e84",
   "metadata": {},
   "outputs": [
    {
     "data": {
      "text/html": [
       "<div>\n",
       "<style scoped>\n",
       "    .dataframe tbody tr th:only-of-type {\n",
       "        vertical-align: middle;\n",
       "    }\n",
       "\n",
       "    .dataframe tbody tr th {\n",
       "        vertical-align: top;\n",
       "    }\n",
       "\n",
       "    .dataframe thead th {\n",
       "        text-align: right;\n",
       "    }\n",
       "</style>\n",
       "<table border=\"1\" class=\"dataframe\">\n",
       "  <thead>\n",
       "    <tr style=\"text-align: right;\">\n",
       "      <th></th>\n",
       "      <th>glucose</th>\n",
       "      <th>bloodpressure</th>\n",
       "      <th>diabetes</th>\n",
       "    </tr>\n",
       "  </thead>\n",
       "  <tbody>\n",
       "    <tr>\n",
       "      <th>0</th>\n",
       "      <td>40</td>\n",
       "      <td>85</td>\n",
       "      <td>0</td>\n",
       "    </tr>\n",
       "    <tr>\n",
       "      <th>1</th>\n",
       "      <td>40</td>\n",
       "      <td>92</td>\n",
       "      <td>0</td>\n",
       "    </tr>\n",
       "    <tr>\n",
       "      <th>2</th>\n",
       "      <td>45</td>\n",
       "      <td>63</td>\n",
       "      <td>1</td>\n",
       "    </tr>\n",
       "    <tr>\n",
       "      <th>3</th>\n",
       "      <td>45</td>\n",
       "      <td>80</td>\n",
       "      <td>0</td>\n",
       "    </tr>\n",
       "    <tr>\n",
       "      <th>4</th>\n",
       "      <td>40</td>\n",
       "      <td>73</td>\n",
       "      <td>1</td>\n",
       "    </tr>\n",
       "    <tr>\n",
       "      <th>5</th>\n",
       "      <td>45</td>\n",
       "      <td>82</td>\n",
       "      <td>0</td>\n",
       "    </tr>\n",
       "    <tr>\n",
       "      <th>6</th>\n",
       "      <td>40</td>\n",
       "      <td>85</td>\n",
       "      <td>0</td>\n",
       "    </tr>\n",
       "    <tr>\n",
       "      <th>7</th>\n",
       "      <td>30</td>\n",
       "      <td>63</td>\n",
       "      <td>1</td>\n",
       "    </tr>\n",
       "    <tr>\n",
       "      <th>8</th>\n",
       "      <td>65</td>\n",
       "      <td>65</td>\n",
       "      <td>1</td>\n",
       "    </tr>\n",
       "    <tr>\n",
       "      <th>9</th>\n",
       "      <td>45</td>\n",
       "      <td>82</td>\n",
       "      <td>0</td>\n",
       "    </tr>\n",
       "  </tbody>\n",
       "</table>\n",
       "</div>"
      ],
      "text/plain": [
       "   glucose  bloodpressure  diabetes\n",
       "0       40             85         0\n",
       "1       40             92         0\n",
       "2       45             63         1\n",
       "3       45             80         0\n",
       "4       40             73         1\n",
       "5       45             82         0\n",
       "6       40             85         0\n",
       "7       30             63         1\n",
       "8       65             65         1\n",
       "9       45             82         0"
      ]
     },
     "execution_count": 4,
     "metadata": {},
     "output_type": "execute_result"
    }
   ],
   "source": [
    "# First 10 rows from diabetes_df\n",
    "\n",
    "diabetes_df.head(10)"
   ]
  },
  {
   "cell_type": "code",
   "execution_count": 5,
   "id": "6e3738f6",
   "metadata": {},
   "outputs": [
    {
     "data": {
      "text/plain": [
       "(995, 3)"
      ]
     },
     "execution_count": 5,
     "metadata": {},
     "output_type": "execute_result"
    }
   ],
   "source": [
    "# Check how many colums and rows of data there are in total\n",
    "\n",
    "diabetes_df.shape"
   ]
  },
  {
   "cell_type": "code",
   "execution_count": 6,
   "id": "bc948356",
   "metadata": {},
   "outputs": [
    {
     "data": {
      "text/plain": [
       "2985"
      ]
     },
     "execution_count": 6,
     "metadata": {},
     "output_type": "execute_result"
    }
   ],
   "source": [
    "# Check the total elements in our data\n",
    "\n",
    "diabetes_df.size"
   ]
  },
  {
   "cell_type": "code",
   "execution_count": 7,
   "id": "fb66e769",
   "metadata": {},
   "outputs": [
    {
     "name": "stdout",
     "output_type": "stream",
     "text": [
      "<class 'pandas.core.frame.DataFrame'>\n",
      "RangeIndex: 995 entries, 0 to 994\n",
      "Data columns (total 3 columns):\n",
      " #   Column         Non-Null Count  Dtype\n",
      "---  ------         --------------  -----\n",
      " 0   glucose        995 non-null    int64\n",
      " 1   bloodpressure  995 non-null    int64\n",
      " 2   diabetes       995 non-null    int64\n",
      "dtypes: int64(3)\n",
      "memory usage: 23.4 KB\n"
     ]
    }
   ],
   "source": [
    "# Getting more information about the data, including data types\n",
    "\n",
    "diabetes_df.info()"
   ]
  },
  {
   "cell_type": "code",
   "execution_count": 8,
   "id": "5a741268",
   "metadata": {
    "scrolled": true
   },
   "outputs": [
    {
     "data": {
      "text/html": [
       "<div>\n",
       "<style scoped>\n",
       "    .dataframe tbody tr th:only-of-type {\n",
       "        vertical-align: middle;\n",
       "    }\n",
       "\n",
       "    .dataframe tbody tr th {\n",
       "        vertical-align: top;\n",
       "    }\n",
       "\n",
       "    .dataframe thead th {\n",
       "        text-align: right;\n",
       "    }\n",
       "</style>\n",
       "<table border=\"1\" class=\"dataframe\">\n",
       "  <thead>\n",
       "    <tr style=\"text-align: right;\">\n",
       "      <th></th>\n",
       "      <th>glucose</th>\n",
       "      <th>bloodpressure</th>\n",
       "      <th>diabetes</th>\n",
       "    </tr>\n",
       "  </thead>\n",
       "  <tbody>\n",
       "    <tr>\n",
       "      <th>count</th>\n",
       "      <td>995.000000</td>\n",
       "      <td>995.000000</td>\n",
       "      <td>995.000000</td>\n",
       "    </tr>\n",
       "    <tr>\n",
       "      <th>mean</th>\n",
       "      <td>44.306533</td>\n",
       "      <td>79.184925</td>\n",
       "      <td>0.500503</td>\n",
       "    </tr>\n",
       "    <tr>\n",
       "      <th>std</th>\n",
       "      <td>6.707567</td>\n",
       "      <td>9.340204</td>\n",
       "      <td>0.500251</td>\n",
       "    </tr>\n",
       "    <tr>\n",
       "      <th>min</th>\n",
       "      <td>20.000000</td>\n",
       "      <td>50.000000</td>\n",
       "      <td>0.000000</td>\n",
       "    </tr>\n",
       "    <tr>\n",
       "      <th>25%</th>\n",
       "      <td>40.000000</td>\n",
       "      <td>72.000000</td>\n",
       "      <td>0.000000</td>\n",
       "    </tr>\n",
       "    <tr>\n",
       "      <th>50%</th>\n",
       "      <td>45.000000</td>\n",
       "      <td>80.000000</td>\n",
       "      <td>1.000000</td>\n",
       "    </tr>\n",
       "    <tr>\n",
       "      <th>75%</th>\n",
       "      <td>50.000000</td>\n",
       "      <td>87.000000</td>\n",
       "      <td>1.000000</td>\n",
       "    </tr>\n",
       "    <tr>\n",
       "      <th>max</th>\n",
       "      <td>70.000000</td>\n",
       "      <td>100.000000</td>\n",
       "      <td>1.000000</td>\n",
       "    </tr>\n",
       "  </tbody>\n",
       "</table>\n",
       "</div>"
      ],
      "text/plain": [
       "          glucose  bloodpressure    diabetes\n",
       "count  995.000000     995.000000  995.000000\n",
       "mean    44.306533      79.184925    0.500503\n",
       "std      6.707567       9.340204    0.500251\n",
       "min     20.000000      50.000000    0.000000\n",
       "25%     40.000000      72.000000    0.000000\n",
       "50%     45.000000      80.000000    1.000000\n",
       "75%     50.000000      87.000000    1.000000\n",
       "max     70.000000     100.000000    1.000000"
      ]
     },
     "execution_count": 8,
     "metadata": {},
     "output_type": "execute_result"
    }
   ],
   "source": [
    "# Getting descriptive statistics of the dataframe\n",
    "\n",
    "diabetes_df.describe()"
   ]
  },
  {
   "cell_type": "markdown",
   "id": "67ba0055",
   "metadata": {},
   "source": [
    "## 2- Data cleaning:"
   ]
  },
  {
   "cell_type": "code",
   "execution_count": 9,
   "id": "c5541ace",
   "metadata": {},
   "outputs": [
    {
     "data": {
      "text/plain": [
       "glucose          0\n",
       "bloodpressure    0\n",
       "diabetes         0\n",
       "dtype: int64"
      ]
     },
     "execution_count": 9,
     "metadata": {},
     "output_type": "execute_result"
    }
   ],
   "source": [
    "# Checking for null values\n",
    "\n",
    "diabetes_df.isna().sum()"
   ]
  },
  {
   "cell_type": "markdown",
   "id": "3504536b",
   "metadata": {},
   "source": [
    "## 3- Data visualization:\n",
    "\n",
    "Lets check if our predictor variables present any correlation."
   ]
  },
  {
   "cell_type": "code",
   "execution_count": 10,
   "id": "9f530797",
   "metadata": {},
   "outputs": [
    {
     "data": {
      "text/plain": [
       "<seaborn.axisgrid.PairGrid at 0x19bec65e8b0>"
      ]
     },
     "execution_count": 10,
     "metadata": {},
     "output_type": "execute_result"
    },
    {
     "data": {
      "image/png": "[encoded data removed]",
      "text/plain": [
       "<Figure size 411x360 with 6 Axes>"
      ]
     },
     "metadata": {
      "needs_background": "light"
     },
     "output_type": "display_data"
    }
   ],
   "source": [
    "# Scatter plots\n",
    "\n",
    "sns.pairplot(data = diabetes_df, hue = \"diabetes\", palette = \"CMRmap\")"
   ]
  },
  {
   "cell_type": "code",
   "execution_count": 11,
   "id": "7033f43a",
   "metadata": {},
   "outputs": [
    {
     "data": {
      "text/plain": [
       "<AxesSubplot:xlabel='diabetes', ylabel='count'>"
      ]
     },
     "execution_count": 11,
     "metadata": {},
     "output_type": "execute_result"
    },
    {
     "data": {
      "image/png": "[encoded data removed]",
      "text/plain": [
       "<Figure size 432x288 with 1 Axes>"
      ]
     },
     "metadata": {
      "needs_background": "light"
     },
     "output_type": "display_data"
    }
   ],
   "source": [
    "# Visualizing the distribution of classes in the variable target\n",
    "\n",
    "sns.countplot(x = diabetes_df['diabetes'], label = 'Count', palette = 'CMRmap')"
   ]
  },
  {
   "cell_type": "code",
   "execution_count": 12,
   "id": "03b15130",
   "metadata": {},
   "outputs": [
    {
     "data": {
      "text/plain": [
       "1    498\n",
       "0    497\n",
       "Name: diabetes, dtype: int64"
      ]
     },
     "execution_count": 12,
     "metadata": {},
     "output_type": "execute_result"
    }
   ],
   "source": [
    "diabetes_df['diabetes'].value_counts()"
   ]
  },
  {
   "cell_type": "code",
   "execution_count": 13,
   "id": "fcfe91cd",
   "metadata": {},
   "outputs": [
    {
     "data": {
      "image/png": "[encoded data removed]",
      "text/plain": [
       "<Figure size 864x432 with 2 Axes>"
      ]
     },
     "metadata": {
      "needs_background": "light"
     },
     "output_type": "display_data"
    }
   ],
   "source": [
    "# Distribution of the predictor variables\n",
    "\n",
    "# Set up the figure and axes\n",
    "fig, axes = plt.subplots(1, 2, figsize=(12, 6))\n",
    "\n",
    "\n",
    "# Glucosa figure\n",
    "axes[0].hist(diabetes_df['glucose'], bins=10, density=True, alpha=0.4, label = \"Histogram of glucosa values\")\n",
    "axes[0].set_title('Distribution of glucose values')\n",
    "\n",
    "xmin_0, xmax_0 = axes[0].get_xlim()\n",
    "x_0 = np.linspace(xmin_0, xmax_0, 100)\n",
    "p_0 = stats.norm.pdf(x_0, round(diabetes_df['glucose'].mean(), 3), stats.tstd(diabetes_df['glucose']))\n",
    "\n",
    "axes[0].plot(x_0, p_0,'k', linewidth=2, label = 'Normal curve from central limit theorem')\n",
    "axes[0].legend(bbox_to_anchor=(1.04,1))\n",
    "\n",
    "\n",
    "# Blood pressure figure\n",
    "axes[1].hist(diabetes_df['bloodpressure'], bins=10, density=True, alpha=0.4, label = \"Histogram of blood pressure values\")\n",
    "axes[1].set_title('Distribution of blood pressure values')\n",
    "\n",
    "xmin_1, xmax_1 = axes[1].get_xlim()\n",
    "x_1 = np.linspace(xmin_1, xmax_1+8, 100)\n",
    "p_1 = stats.norm.pdf(x_1, round(diabetes_df['bloodpressure'].mean(), 3), stats.tstd(diabetes_df['bloodpressure']))\n",
    "\n",
    "axes[1].plot(x_1, p_1,'k', linewidth=2, label = 'Normal curve from central limit theorem')\n",
    "axes[1].legend(bbox_to_anchor=(1.04,1))\n",
    "\n",
    "\n",
    "plt.tight_layout()\n",
    "plt.show()"
   ]
  },
  {
   "cell_type": "markdown",
   "id": "ab3409b6",
   "metadata": {},
   "source": [
    "# Model preparation:\n",
    "\n",
    "## 1- Isolate the target and predictor variables\n",
    "\n",
    "Separately, we define the target variable (diabetes) and the features (glucose and bloodpressure)."
   ]
  },
  {
   "cell_type": "code",
   "execution_count": 14,
   "id": "d4ac4c40",
   "metadata": {},
   "outputs": [
    {
     "name": "stdout",
     "output_type": "stream",
     "text": [
      "(995,)\n",
      "(995, 2)\n",
      "1    498\n",
      "0    497\n",
      "Name: diabetes, dtype: int64\n"
     ]
    }
   ],
   "source": [
    "# The y (target) variable\n",
    "\n",
    "y = diabetes_df['diabetes']\n",
    "\n",
    "# The X (predictor) variables\n",
    "\n",
    "X = diabetes_df.drop(['diabetes'], axis=1)\n",
    "\n",
    "print(y.shape)\n",
    "print(X.shape)\n",
    "print(y.value_counts())"
   ]
  },
  {
   "cell_type": "markdown",
   "id": "ebe702a5",
   "metadata": {},
   "source": [
    "## 2- Checking the class balance"
   ]
  },
  {
   "cell_type": "code",
   "execution_count": 52,
   "id": "07ffcc18",
   "metadata": {},
   "outputs": [
    {
     "name": "stdout",
     "output_type": "stream",
     "text": [
      "diabetes_percentage = 49.95 % \n",
      " no_diabetes_percentage = 50.05 %\n"
     ]
    }
   ],
   "source": [
    "# Checking the class balance\n",
    "\n",
    "def class_balance(a):\n",
    "    counts = a.value_counts()\n",
    "    percent_1 = round(counts[1] * 100 /counts.sum(), 2)\n",
    "    percent_0 = round(counts[0] * 100 /counts.sum(),2)\n",
    "    \n",
    "    return print('diabetes_percentage =', percent_0, '%', '\\n',\n",
    "                 'no_diabetes_percentage =' , percent_1, '%')\n",
    "\n",
    "class_balance(diabetes_df['diabetes'])"
   ]
  },
  {
   "cell_type": "markdown",
   "id": "c6f4484e",
   "metadata": {},
   "source": [
    "## 3- Split data into Training and Test sets\n",
    "Lets divide the data into a training set (70% of data) and test set (30% of data). This is an important step in the process, as it allows to reserve a part of the data that the model has not observed. This tests how well the model performs on new data."
   ]
  },
  {
   "cell_type": "code",
   "execution_count": 16,
   "id": "0af5b883",
   "metadata": {},
   "outputs": [],
   "source": [
    "# Split operation\n",
    "\n",
    "X_train, X_test, y_train, y_test = train_test_split(X, y, test_size=0.30, random_state = 42)"
   ]
  },
  {
   "cell_type": "code",
   "execution_count": 17,
   "id": "7502f435",
   "metadata": {},
   "outputs": [
    {
     "name": "stdout",
     "output_type": "stream",
     "text": [
      "(696, 2)\n",
      "(696,)\n",
      "(299, 2)\n",
      "(299,)\n"
     ]
    }
   ],
   "source": [
    "# Shape of each output\n",
    "\n",
    "\n",
    "print(X_train.shape)\n",
    "print(y_train.shape)\n",
    "\n",
    "print(X_test.shape)\n",
    "print(y_test.shape)"
   ]
  },
  {
   "cell_type": "markdown",
   "id": "6781832e",
   "metadata": {},
   "source": [
    "# Model building:\n",
    "\n",
    "## 1- Gaussian Naive Bayes\n",
    "\n",
    "We saw that our predictor variables follow approximately a normal distribution, therefore we can use the assumption that our features are normally distributed and continuous, so the Gaussian Naive Bayes algorithm is appropriated for our data."
   ]
  },
  {
   "cell_type": "code",
   "execution_count": 18,
   "id": "c2cfaed2",
   "metadata": {},
   "outputs": [],
   "source": [
    "nb = GaussianNB()\n",
    "\n",
    "# Fitting the model on the training data.\n",
    "nb.fit(X_train, y_train)\n",
    "\n",
    "# Applying our model to predict on the test data.\n",
    "y_pred_nb = nb.predict(X_test)"
   ]
  },
  {
   "cell_type": "markdown",
   "id": "c7015dc1",
   "metadata": {},
   "source": [
    "## 2- Logistic Regression"
   ]
  },
  {
   "cell_type": "code",
   "execution_count": 19,
   "id": "0d95eb62",
   "metadata": {},
   "outputs": [],
   "source": [
    "lreg = LogisticRegression()\n",
    "\n",
    "# Fitting the model on the training data.\n",
    "lreg.fit(X_train, y_train)\n",
    "\n",
    "# Applying our model to predict on the test data.\n",
    "y_pred_lreg = lreg.predict(X_test)"
   ]
  },
  {
   "cell_type": "code",
   "execution_count": 37,
   "id": "04db1397",
   "metadata": {},
   "outputs": [
    {
     "data": {
      "image/png": "[encoded data removed]",
      "text/plain": [
       "<Figure size 432x288 with 1 Axes>"
      ]
     },
     "metadata": {
      "needs_background": "light"
     },
     "output_type": "display_data"
    }
   ],
   "source": [
    "X_0 = diabetes_df[['glucose', 'bloodpressure']].values\n",
    "y_0 = diabetes_df['diabetes'].values\n",
    "\n",
    "\n",
    "# Create a scatter plot for the data points\n",
    "sns.scatterplot(x='glucose', y='bloodpressure', hue='diabetes', data=diabetes_df, palette='CMRmap', marker='o')\n",
    "\n",
    "# Create a meshgrid to generate points for contour plot\n",
    "x_min, x_max = X_0[:, 0].min() - 1, X_0[:, 0].max() + 1\n",
    "y_min, y_max = X_0[:, 1].min() - 1, X_0[:, 1].max() + 1\n",
    "xx, yy = np.meshgrid(np.arange(x_min, x_max, 0.01), np.arange(y_min, y_max, 0.01))\n",
    "\n",
    "# Predict the class labels for the meshgrid points\n",
    "Z = lreg.predict(np.c_[xx.ravel(), yy.ravel()])\n",
    "Z = Z.reshape(xx.shape)\n",
    "\n",
    "# Overlay the decision boundary as a contour plot\n",
    "plt.contourf(xx, yy, Z, alpha=0.3, cmap='coolwarm')\n",
    "\n",
    "plt.xlabel('Glucose')\n",
    "plt.ylabel('Blood pressure')\n",
    "plt.title('Logistic Regression Decision Boundary')\n",
    "plt.legend(title='Diabetes',bbox_to_anchor=(1.2,1.03))\n",
    "plt.show()"
   ]
  },
  {
   "cell_type": "markdown",
   "id": "aa0abcda",
   "metadata": {},
   "source": [
    "# Results and evaluation:\n",
    "\n",
    "## 1- Confusion Matrix and Leverage metrics for Gaussian Naive Bayes"
   ]
  },
  {
   "cell_type": "code",
   "execution_count": 47,
   "id": "f0ac4b59",
   "metadata": {},
   "outputs": [
    {
     "name": "stdout",
     "output_type": "stream",
     "text": [
      "              precision    recall  f1-score   support\n",
      "\n",
      "    Diabetes       0.93      0.93      0.93       140\n",
      "     Healthy       0.94      0.94      0.94       159\n",
      "\n",
      "    accuracy                           0.93       299\n",
      "   macro avg       0.93      0.93      0.93       299\n",
      "weighted avg       0.93      0.93      0.93       299\n",
      "\n"
     ]
    },
    {
     "data": {
      "image/png": "[encoded data removed]",
      "text/plain": [
       "<Figure size 432x288 with 2 Axes>"
      ]
     },
     "metadata": {
      "needs_background": "light"
     },
     "output_type": "display_data"
    }
   ],
   "source": [
    "cm = confusion_matrix(y_test, y_pred_nb)\n",
    "sns.heatmap(cm, annot=True, cmap = 'viridis', fmt='d')\n",
    "plt.title('Gaussian Naive Bayes Confusion Matrix')\n",
    "\n",
    "target_labels = [ 'Diabetes', 'Healthy']\n",
    "print(classification_report(y_test, y_pred_nb, target_names=target_labels))"
   ]
  },
  {
   "cell_type": "markdown",
   "id": "4ac98247",
   "metadata": {},
   "source": [
    "## 2- Confusion Matrix and Leverage metrics for Logistic Regression"
   ]
  },
  {
   "cell_type": "code",
   "execution_count": 51,
   "id": "4c84a8ca",
   "metadata": {},
   "outputs": [
    {
     "name": "stdout",
     "output_type": "stream",
     "text": [
      "              precision    recall  f1-score   support\n",
      "\n",
      "    Diabetes       0.90      0.94      0.92       140\n",
      "     Healthy       0.95      0.91      0.93       159\n",
      "\n",
      "    accuracy                           0.93       299\n",
      "   macro avg       0.93      0.93      0.93       299\n",
      "weighted avg       0.93      0.93      0.93       299\n",
      "\n"
     ]
    },
    {
     "data": {
      "image/png": "[encoded data removed]",
      "text/plain": [
       "<Figure size 432x288 with 2 Axes>"
      ]
     },
     "metadata": {
      "needs_background": "light"
     },
     "output_type": "display_data"
    }
   ],
   "source": [
    "cm = confusion_matrix(y_test, y_pred_lreg)\n",
    "sns.heatmap(cm, annot=True, cmap = 'viridis', fmt='d')\n",
    "plt.title('Logistic Regression Confusion Matrix')\n",
    "\n",
    "target_labels = [ 'Diabetes', 'Healthy']\n",
    "print(classification_report(y_test, y_pred_lreg, target_names=target_labels))"
   ]
  },
  {
   "cell_type": "markdown",
   "id": "04ede535",
   "metadata": {},
   "source": [
    "# Observation:\n",
    "\n",
    "There are two possible predicted classes: '0' indicates a pacient has diabetes, and '1' indicates a pacient has not diabetes.\n",
    "\n",
    "Of the two models built, we obtain the following results:\n",
    "\n",
    "<ol style=\"margin-left: 20px;\">\n",
    "    <li> Naive Bayes Model: It achieves a precision of 94% and a recall of 94%, resulting in an accuracy of 93%.</li>\n",
    "    <li> Logistic Regression Model: It achieves a precision of 95% and a recall of 91%, resulting in an accuracy of 93%.</li>\n",
    "    \n",
    "</ol>\n",
    "\n",
    "In the present case, it is preferable to have the fewest false negatives. False negatives would represent patients who would not receive treatment for diabetes because they were incorrectly classified as healthy patients. Therefore, the model that best suits our predictive needs is the logistic regression model."
   ]
  },
  {
   "cell_type": "code",
   "execution_count": null,
   "id": "dc9c9db8-139d-4bba-a5c4-59e2dd55b8d9",
   "metadata": {},
   "outputs": [],
   "source": []
  }
 ],
 "metadata": {
  "kernelspec": {
   "display_name": "Python 3 (ipykernel)",
   "language": "python",
   "name": "python3"
  },
  "language_info": {
   "codemirror_mode": {
    "name": "ipython",
    "version": 3
   },
   "file_extension": ".py",
   "mimetype": "text/x-python",
   "name": "python",
   "nbconvert_exporter": "python",
   "pygments_lexer": "ipython3",
   "version": "3.11.5"
  }
 },
 "nbformat": 4,
 "nbformat_minor": 5
}
